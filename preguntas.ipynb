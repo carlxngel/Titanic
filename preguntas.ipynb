{
 "cells": [
  {
   "cell_type": "code",
   "execution_count": 5,
   "id": "a2ff9ab6",
   "metadata": {},
   "outputs": [],
   "source": [
    "import pandas as pd\n",
    "import numpy as np "
   ]
  },
  {
   "cell_type": "code",
   "execution_count": 6,
   "id": "939f759b",
   "metadata": {},
   "outputs": [],
   "source": [
    "df = pd.read_csv(r\"C:\\Users\\cmoli\\OneDrive\\Documentos\\GitHub\\Titanic\\data\\titanic_limpio.csv\")"
   ]
  },
  {
   "cell_type": "code",
   "execution_count": 7,
   "id": "cf558b70",
   "metadata": {},
   "outputs": [
    {
     "data": {
      "text/html": [
       "<div>\n",
       "<style scoped>\n",
       "    .dataframe tbody tr th:only-of-type {\n",
       "        vertical-align: middle;\n",
       "    }\n",
       "\n",
       "    .dataframe tbody tr th {\n",
       "        vertical-align: top;\n",
       "    }\n",
       "\n",
       "    .dataframe thead th {\n",
       "        text-align: right;\n",
       "    }\n",
       "</style>\n",
       "<table border=\"1\" class=\"dataframe\">\n",
       "  <thead>\n",
       "    <tr style=\"text-align: right;\">\n",
       "      <th></th>\n",
       "      <th>PassengerId</th>\n",
       "      <th>Survived</th>\n",
       "      <th>Pclass</th>\n",
       "      <th>Name</th>\n",
       "      <th>Sex</th>\n",
       "      <th>Age</th>\n",
       "      <th>SibSp</th>\n",
       "      <th>Parch</th>\n",
       "      <th>Ticket</th>\n",
       "      <th>Fare</th>\n",
       "      <th>Cabin</th>\n",
       "      <th>Embarked</th>\n",
       "      <th>Tiene_cabina</th>\n",
       "    </tr>\n",
       "  </thead>\n",
       "  <tbody>\n",
       "    <tr>\n",
       "      <th>0</th>\n",
       "      <td>1</td>\n",
       "      <td>0</td>\n",
       "      <td>3</td>\n",
       "      <td>Braund, Mr. Owen Harris</td>\n",
       "      <td>male</td>\n",
       "      <td>22.0</td>\n",
       "      <td>1</td>\n",
       "      <td>0</td>\n",
       "      <td>A/5 21171</td>\n",
       "      <td>7.2500</td>\n",
       "      <td>sin datos</td>\n",
       "      <td>S</td>\n",
       "      <td>0</td>\n",
       "    </tr>\n",
       "    <tr>\n",
       "      <th>1</th>\n",
       "      <td>2</td>\n",
       "      <td>1</td>\n",
       "      <td>1</td>\n",
       "      <td>Cumings, Mrs. John Bradley (Florence Briggs Th...</td>\n",
       "      <td>female</td>\n",
       "      <td>38.0</td>\n",
       "      <td>1</td>\n",
       "      <td>0</td>\n",
       "      <td>PC 17599</td>\n",
       "      <td>71.2833</td>\n",
       "      <td>C85</td>\n",
       "      <td>C</td>\n",
       "      <td>1</td>\n",
       "    </tr>\n",
       "  </tbody>\n",
       "</table>\n",
       "</div>"
      ],
      "text/plain": [
       "   PassengerId  Survived  Pclass  \\\n",
       "0            1         0       3   \n",
       "1            2         1       1   \n",
       "\n",
       "                                                Name     Sex   Age  SibSp  \\\n",
       "0                            Braund, Mr. Owen Harris    male  22.0      1   \n",
       "1  Cumings, Mrs. John Bradley (Florence Briggs Th...  female  38.0      1   \n",
       "\n",
       "   Parch     Ticket     Fare      Cabin Embarked  Tiene_cabina  \n",
       "0      0  A/5 21171   7.2500  sin datos        S             0  \n",
       "1      0   PC 17599  71.2833        C85        C             1  "
      ]
     },
     "execution_count": 7,
     "metadata": {},
     "output_type": "execute_result"
    }
   ],
   "source": [
    "df.head(2) #leer"
   ]
  },
  {
   "cell_type": "markdown",
   "id": "1493c9e7",
   "metadata": {},
   "source": [
    "### Porcentaje de supervivientes"
   ]
  },
  {
   "cell_type": "code",
   "execution_count": 29,
   "id": "68d45054",
   "metadata": {},
   "outputs": [
    {
     "data": {
      "text/plain": [
       "np.float64(38.38383838383838)"
      ]
     },
     "execution_count": 29,
     "metadata": {},
     "output_type": "execute_result"
    }
   ],
   "source": [
    "porcentaje_supervivientes = (df['Survived'].mean()) * 100\n",
    "porcentaje_supervivientes"
   ]
  },
  {
   "cell_type": "code",
   "execution_count": 78,
   "id": "6897966a",
   "metadata": {},
   "outputs": [
    {
     "data": {
      "text/html": [
       "<div>\n",
       "<style scoped>\n",
       "    .dataframe tbody tr th:only-of-type {\n",
       "        vertical-align: middle;\n",
       "    }\n",
       "\n",
       "    .dataframe tbody tr th {\n",
       "        vertical-align: top;\n",
       "    }\n",
       "\n",
       "    .dataframe thead th {\n",
       "        text-align: right;\n",
       "    }\n",
       "</style>\n",
       "<table border=\"1\" class=\"dataframe\">\n",
       "  <thead>\n",
       "    <tr style=\"text-align: right;\">\n",
       "      <th></th>\n",
       "      <th>Conteo</th>\n",
       "      <th>Media</th>\n",
       "      <th>Supervivientes</th>\n",
       "    </tr>\n",
       "    <tr>\n",
       "      <th>Pclass</th>\n",
       "      <th></th>\n",
       "      <th></th>\n",
       "      <th></th>\n",
       "    </tr>\n",
       "  </thead>\n",
       "  <tbody>\n",
       "    <tr>\n",
       "      <th>1</th>\n",
       "      <td>216</td>\n",
       "      <td>0.629630</td>\n",
       "      <td>136</td>\n",
       "    </tr>\n",
       "    <tr>\n",
       "      <th>2</th>\n",
       "      <td>184</td>\n",
       "      <td>0.472826</td>\n",
       "      <td>87</td>\n",
       "    </tr>\n",
       "    <tr>\n",
       "      <th>3</th>\n",
       "      <td>491</td>\n",
       "      <td>0.242363</td>\n",
       "      <td>119</td>\n",
       "    </tr>\n",
       "  </tbody>\n",
       "</table>\n",
       "</div>"
      ],
      "text/plain": [
       "        Conteo     Media  Supervivientes\n",
       "Pclass                                  \n",
       "1          216  0.629630             136\n",
       "2          184  0.472826              87\n",
       "3          491  0.242363             119"
      ]
     },
     "execution_count": 78,
     "metadata": {},
     "output_type": "execute_result"
    }
   ],
   "source": [
    "tabla_clase = df.groupby(\"Pclass\")[\"Survived\"].agg([\"count\", \"mean\",\"sum\" ]) #agrupamos por clase y calculamos la media de supervivencia\n",
    "tabla_clase.columns = [\"Conteo\", \"Media\", \"Supervivientes\"] #cambiamos el nombre de las columnas\n",
    "tabla_clase = tabla_clase.sort_index() #ordenamos por índice\n",
    "tabla_clase #mostramos la tabla"
   ]
  },
  {
   "cell_type": "markdown",
   "id": "ed6e5de9",
   "metadata": {},
   "source": [
    "### Apellido más repetidos por clase"
   ]
  },
  {
   "cell_type": "code",
   "execution_count": 84,
   "id": "a4e28db4",
   "metadata": {
    "vscode": {
     "languageId": "ruby"
    }
   },
   "outputs": [
    {
     "data": {
      "text/plain": [
       "Pclass\n",
       "1       Carter\n",
       "2        Brown\n",
       "3    Andersson\n",
       "Name: Apellido, dtype: object"
      ]
     },
     "execution_count": 84,
     "metadata": {},
     "output_type": "execute_result"
    }
   ],
   "source": [
    "# Extraer apellidos\n",
    "df[\"Apellido\"] = df['Name'].str.split(',').str[0]\n",
    "\n",
    "# Encontrar el apellido más repetido por clase\n",
    "apellido_mas_comun = df.groupby('Pclass')['Apellido'].agg(lambda x: x.mode()[0])\n",
    "apellido_mas_comun\n",
    "\n"
   ]
  },
  {
   "cell_type": "markdown",
   "id": "4af69720",
   "metadata": {},
   "source": [
    "### Precio medio por clase"
   ]
  },
  {
   "cell_type": "code",
   "execution_count": 38,
   "id": "da61d776",
   "metadata": {},
   "outputs": [
    {
     "data": {
      "text/plain": [
       "Pclass\n",
       "1    84.154687\n",
       "2    20.662183\n",
       "3    13.675550\n",
       "Name: Fare, dtype: float64"
      ]
     },
     "execution_count": 38,
     "metadata": {},
     "output_type": "execute_result"
    }
   ],
   "source": [
    "precio_medio_por_clase = df.groupby('Pclass')['Fare'].mean()\n",
    "precio_medio_por_clase"
   ]
  },
  {
   "cell_type": "markdown",
   "id": "540d62b7",
   "metadata": {},
   "source": [
    "### Edad media por clase"
   ]
  },
  {
   "cell_type": "code",
   "execution_count": 60,
   "id": "88b48650",
   "metadata": {},
   "outputs": [
    {
     "data": {
      "text/plain": [
       "Pclass\n",
       "1    36.812130\n",
       "2    29.765380\n",
       "3    25.932627\n",
       "Name: Age, dtype: float64"
      ]
     },
     "execution_count": 60,
     "metadata": {},
     "output_type": "execute_result"
    }
   ],
   "source": [
    "edad_media_por_clase = df.groupby('Pclass')['Age'].mean()\n",
    "edad_media_por_clase"
   ]
  },
  {
   "cell_type": "markdown",
   "id": "c1c85d54",
   "metadata": {},
   "source": [
    "### Supervivientes por rangos de edad"
   ]
  },
  {
   "cell_type": "code",
   "execution_count": 61,
   "id": "b8a2c42e",
   "metadata": {},
   "outputs": [
    {
     "data": {
      "text/plain": [
       "RangoEdad\n",
       "Adultos Jóvenes    187\n",
       "Adultos             87\n",
       "Niños               39\n",
       "Adolescentes        22\n",
       "Mayores              7\n",
       "Name: count, dtype: int64"
      ]
     },
     "execution_count": 61,
     "metadata": {},
     "output_type": "execute_result"
    }
   ],
   "source": [
    "supervivientes_por_rango_edad = df[df['Survived'] == 1]['RangoEdad'].value_counts()\n",
    "supervivientes_por_rango_edad"
   ]
  },
  {
   "cell_type": "code",
   "execution_count": 58,
   "id": "24969f36",
   "metadata": {},
   "outputs": [
    {
     "name": "stderr",
     "output_type": "stream",
     "text": [
      "C:\\Users\\cmoli\\AppData\\Local\\Temp\\ipykernel_24788\\2337648023.py:11: FutureWarning: \n",
      "\n",
      "Passing `palette` without assigning `hue` is deprecated and will be removed in v0.14.0. Assign the `x` variable to `hue` and set `legend=False` for the same effect.\n",
      "\n",
      "  sns.barplot(x='RangoEdad', y='Supervivientes', data=supervivientes_por_rango_edad, palette='viridis')\n"
     ]
    },
    {
     "data": {
      "image/png": "[encoded data removed]",
      "text/plain": [
       "<Figure size 1000x600 with 1 Axes>"
      ]
     },
     "metadata": {},
     "output_type": "display_data"
    }
   ],
   "source": [
    "supervivientes_por_rango_edad = df[df['Survived'] == 1]['RangoEdad'].value_counts()\n",
    "supervivientes_por_rango_edad = supervivientes_por_rango_edad.sort_index()\n",
    "supervivientes_por_rango_edad = supervivientes_por_rango_edad.rename_axis('RangoEdad').reset_index(name='Supervivientes')\n",
    "supervivientes_por_rango_edad['RangoEdad'] = supervivientes_por_rango_edad['RangoEdad'].astype(str)\n",
    "# Crear un gráfico de barras\n",
    "import matplotlib.pyplot as plt\n",
    "import seaborn as sns\n",
    "import matplotlib.ticker as ticker\n",
    "\n",
    "plt.figure(figsize=(10, 6))\n",
    "sns.barplot(x='RangoEdad', y='Supervivientes', data=supervivientes_por_rango_edad, palette='viridis')\n",
    "plt.title('Supervivientes por Rango de Edad')\n",
    "plt.xlabel('Rango de Edad')\n",
    "plt.ylabel('Número de Supervivientes')\n",
    "plt.xticks(rotation=45)\n",
    "plt.grid(axis='y', linestyle='--', alpha=0.7)\n",
    "plt.gca().yaxis.set_major_formatter(ticker.StrMethodFormatter('{x:,.0f}'))\n",
    "plt.tight_layout()\n",
    "plt.show()\n",
    "# Crear un gráfico de dispersión"
   ]
  },
  {
   "cell_type": "markdown",
   "id": "5414a5fb",
   "metadata": {},
   "source": [
    "### % de supervencia entre hombres, mujeres y ninos por clase"
   ]
  },
  {
   "cell_type": "code",
   "execution_count": 73,
   "id": "c560c907",
   "metadata": {
    "vscode": {
     "languageId": "ruby"
    }
   },
   "outputs": [
    {
     "name": "stdout",
     "output_type": "stream",
     "text": [
      "Porcentaje de supervivencia por sexo y clase:\n",
      "Pclass  Sex   \n",
      "1       female    96.808511\n",
      "        male      36.885246\n",
      "2       female    92.105263\n",
      "        male      15.740741\n",
      "3       female    50.000000\n",
      "        male      13.544669\n",
      "Name: Survived, dtype: float64\n",
      "\n",
      "Porcentaje de supervivencia de niños por clase:\n",
      "Pclass\n",
      "1     75.000000\n",
      "2    100.000000\n",
      "3     40.425532\n",
      "Name: Survived, dtype: float64\n"
     ]
    }
   ],
   "source": [
    "# Calcular el porcentaje de supervivencia por sexo y clase\n",
    "porcentaje_supervivencia_sexo_clase = df.groupby(['Pclass', 'Sex'])['Survived'].mean() * 100\n",
    "\n",
    "# Calcular el porcentaje de supervivencia para niños por clase\n",
    "porcentaje_supervivencia_niños_clase = df[df['RangoEdad'] == 'Niños'].groupby('Pclass')['Survived'].mean() * 100\n",
    "\n",
    "# Mostrar los resultados\n",
    "print(\"Porcentaje de supervivencia por sexo y clase:\")\n",
    "print(porcentaje_supervivencia_sexo_clase)\n",
    "\n",
    "print(\"\\nPorcentaje de supervivencia de niños por clase:\")\n",
    "print(porcentaje_supervivencia_niños_clase)"
   ]
  },
  {
   "cell_type": "markdown",
   "id": "4ebba365",
   "metadata": {},
   "source": [
    "### Supervivientes por sexo"
   ]
  },
  {
   "cell_type": "code",
   "execution_count": 77,
   "id": "4f61ccd1",
   "metadata": {
    "vscode": {
     "languageId": "ruby"
    }
   },
   "outputs": [
    {
     "data": {
      "text/plain": [
       "Sex\n",
       "female    233\n",
       "male      109\n",
       "Name: count, dtype: int64"
      ]
     },
     "execution_count": 77,
     "metadata": {},
     "output_type": "execute_result"
    }
   ],
   "source": [
    "supervivientes_por_sexo = df[df['Survived'] == 1]['Sex'].value_counts()\n",
    "supervivientes_por_sexo"
   ]
  }
 ],
 "metadata": {
  "kernelspec": {
   "display_name": "Python 3",
   "language": "python",
   "name": "python3"
  },
  "language_info": {
   "codemirror_mode": {
    "name": "ipython",
    "version": 3
   },
   "file_extension": ".py",
   "mimetype": "text/x-python",
   "name": "python",
   "nbconvert_exporter": "python",
   "pygments_lexer": "ipython3",
   "version": "3.13.3"
  }
 },
 "nbformat": 4,
 "nbformat_minor": 5
}
